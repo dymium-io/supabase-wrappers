{
 "cells": [
  {
   "cell_type": "markdown",
   "id": "6d1c7394-6898-4552-91d2-7bf00c3b6348",
   "metadata": {},
   "source": [
    "# Transparent Column Encryption"
   ]
  },
  {
   "cell_type": "markdown",
   "id": "9a63fee6-388b-4a4b-a15e-2af094f247b5",
   "metadata": {},
   "source": [
    "Transparent Column Encryption (TCE) lets you encrypt a column for storage to disk.  This pattern is often called \"Encryption at Rest\".  The column is stored encrypted in the postgres database files, as well as log streams and database dumps. TCE uses [Server Key Management]() managed keys by ID.  "
   ]
  },
  {
   "cell_type": "code",
   "execution_count": 1,
   "id": "fd1f049d-1112-4398-91a7-b37be8157fc0",
   "metadata": {
    "tags": []
   },
   "outputs": [],
   "source": [
    "%load_ext sql"
   ]
  },
  {
   "cell_type": "code",
   "execution_count": 2,
   "id": "79e2bbc3-987e-4ca8-a1f3-99f2cb080e77",
   "metadata": {
    "tags": []
   },
   "outputs": [],
   "source": [
    "%config SqlMagic.feedback=False\n",
    "%config SqlMagic.displaycon=False\n",
    "%sql postgresql://postgres@/"
   ]
  },
  {
   "cell_type": "markdown",
   "id": "a67895d2-b601-4003-8f52-fcd561e043e2",
   "metadata": {},
   "source": [
    "To use TCE, first create the extension:"
   ]
  },
  {
   "cell_type": "code",
   "execution_count": 3,
   "id": "d1a813fe-5114-432c-9be8-4cd8eb526f30",
   "metadata": {},
   "outputs": [
    {
     "data": {
      "text/plain": [
       "[]"
      ]
     },
     "execution_count": 3,
     "metadata": {},
     "output_type": "execute_result"
    }
   ],
   "source": [
    "%%sql \n",
    "CREATE EXTENSION IF NOT EXISTS pgsodium;"
   ]
  },
  {
   "cell_type": "markdown",
   "id": "7930afdd-4149-4f58-ae55-e6a1d5611935",
   "metadata": {},
   "source": [
    "## Encrypt Whole Column with One Key ID"
   ]
  },
  {
   "cell_type": "markdown",
   "id": "6970aa9f-be84-4216-83e2-6c597303e079",
   "metadata": {},
   "source": [
    "To encrypt a column, the first step is to create a table.  Here is a simple table with one `text` column that will be encrypted."
   ]
  },
  {
   "cell_type": "code",
   "execution_count": 4,
   "id": "1edd76bd-e030-4294-9317-aa3821b06524",
   "metadata": {},
   "outputs": [
    {
     "data": {
      "text/plain": [
       "[]"
      ]
     },
     "execution_count": 4,
     "metadata": {},
     "output_type": "execute_result"
    }
   ],
   "source": [
    "%%sql\n",
    "DROP TABLE IF EXISTS my_secrets CASCADE;\n",
    "CREATE TABLE my_secrets (\n",
    "  secret text\n",
    ");"
   ]
  },
  {
   "cell_type": "markdown",
   "id": "148a9286-9338-4b15-be80-9f06f039f43f",
   "metadata": {},
   "source": [
    "## Create a new Key ID\n",
    "\n",
    "The next step is create a single key id that will be used to encrypt the column with the `pgsodium.create_key()` function.  This new key is used to create a label for the column with a `SECURITY LABEL` command that says which key id should be used to encrypt the table."
   ]
  },
  {
   "cell_type": "code",
   "execution_count": 5,
   "id": "403b1e0c-ba33-42c0-9fd0-26057d8c01f5",
   "metadata": {},
   "outputs": [
    {
     "name": "stdout",
     "output_type": "stream",
     "text": [
      "The security label will be: ENCRYPT WITH KEY ID 3b72130d-32c1-42a2-8ed4-c35086ca60e8\n"
     ]
    }
   ],
   "source": [
    "key = %sql SELECT * FROM pgsodium.create_key()\n",
    "label = 'ENCRYPT WITH KEY ID ' + str(key[0].id)\n",
    "print('The security label will be:', label)"
   ]
  },
  {
   "cell_type": "markdown",
   "id": "5b9d17c1-b47c-45a3-88d3-70cbca23f44d",
   "metadata": {
    "tags": []
   },
   "source": [
    "## Label a column\n",
    "\n",
    "Now apply that label to the column:"
   ]
  },
  {
   "cell_type": "code",
   "execution_count": 6,
   "id": "d43cfe59-67af-4fd8-89a4-797fa1c53541",
   "metadata": {
    "tags": []
   },
   "outputs": [
    {
     "data": {
      "text/plain": [
       "[]"
      ]
     },
     "execution_count": 6,
     "metadata": {},
     "output_type": "execute_result"
    }
   ],
   "source": [
    "%%sql \n",
    "SECURITY LABEL FOR pgsodium ON COLUMN my_secrets.secret IS :label;"
   ]
  },
  {
   "cell_type": "markdown",
   "id": "1c9cdfe8-ab7f-4233-a47d-37a82742085b",
   "metadata": {},
   "source": [
    "You can examine all labeled objects in the standard Postgre catalog table `pg_catalog.pg_seclabel`:"
   ]
  },
  {
   "cell_type": "code",
   "execution_count": 7,
   "id": "3468c332-0760-405d-ab48-239215ab4e0f",
   "metadata": {},
   "outputs": [
    {
     "data": {
      "text/html": [
       "<table>\n",
       "    <tr>\n",
       "        <th>objoid</th>\n",
       "        <th>provider</th>\n",
       "        <th>label</th>\n",
       "    </tr>\n",
       "    <tr>\n",
       "        <td>pgsodium.key</td>\n",
       "        <td>pgsodium</td>\n",
       "        <td>ENCRYPT WITH KEY COLUMN parent_key ASSOCIATED (id, associated_data) NONCE raw_key_nonce</td>\n",
       "    </tr>\n",
       "    <tr>\n",
       "        <td>my_customer_secrets</td>\n",
       "        <td>pgsodium</td>\n",
       "        <td>DECRYPT WITH VIEW public.other_name_view</td>\n",
       "    </tr>\n",
       "    <tr>\n",
       "        <td>my_customer_secrets</td>\n",
       "        <td>pgsodium</td>\n",
       "        <td>ENCRYPT WITH KEY COLUMN key_id ASSOCIATED (id, associated_data, owner) NONCE nonce</td>\n",
       "    </tr>\n",
       "    <tr>\n",
       "        <td>my_secrets</td>\n",
       "        <td>pgsodium</td>\n",
       "        <td>ENCRYPT WITH KEY ID 3b72130d-32c1-42a2-8ed4-c35086ca60e8</td>\n",
       "    </tr>\n",
       "</table>"
      ],
      "text/plain": [
       "[('pgsodium.key', 'pgsodium', 'ENCRYPT WITH KEY COLUMN parent_key ASSOCIATED (id, associated_data) NONCE raw_key_nonce'),\n",
       " ('my_customer_secrets', 'pgsodium', 'DECRYPT WITH VIEW public.other_name_view'),\n",
       " ('my_customer_secrets', 'pgsodium', 'ENCRYPT WITH KEY COLUMN key_id ASSOCIATED (id, associated_data, owner) NONCE nonce'),\n",
       " ('my_secrets', 'pgsodium', 'ENCRYPT WITH KEY ID 3b72130d-32c1-42a2-8ed4-c35086ca60e8')]"
      ]
     },
     "execution_count": 7,
     "metadata": {},
     "output_type": "execute_result"
    }
   ],
   "source": [
    "%%sql \n",
    "SELECT objoid::regclass, provider, label FROM pg_seclabel WHERE provider = 'pgsodium';"
   ]
  },
  {
   "cell_type": "markdown",
   "id": "9e000741-4ab0-4f85-aced-d2fff7903cfb",
   "metadata": {},
   "source": [
    "## Insert test data\n",
    "\n",
    "TCE works by dynamically creating an INSERT trigger for the labled table and a view that wraps the table and decrypts the column.  To explain, here are some test rows for the table.  Note that the inserted secret values are *plaintext*."
   ]
  },
  {
   "cell_type": "code",
   "execution_count": 8,
   "id": "ef730544-a2e6-40e4-b817-dc20993b2eb6",
   "metadata": {},
   "outputs": [
    {
     "data": {
      "text/plain": [
       "[]"
      ]
     },
     "execution_count": 8,
     "metadata": {},
     "output_type": "execute_result"
    }
   ],
   "source": [
    "%%sql \n",
    "INSERT INTO my_secrets (secret) VALUES ('sekert1'), ('shhhhh'), ('0xABC_my_payment_processor_key');"
   ]
  },
  {
   "cell_type": "markdown",
   "id": "7532fec8-a907-4d20-9608-25fd3473de44",
   "metadata": {},
   "source": [
    "## How Secrets are Stored\n",
    "\n",
    "Now that there are some secrets in the table, selecting on the table will show that the data is stored in an authenticated encrypted form.  The \"signature\" for authenticated the secret is appended to the value, which is why each value is 32 bytes longer."
   ]
  },
  {
   "cell_type": "code",
   "execution_count": 9,
   "id": "02a5f650-cec9-4cd7-a155-e7746e1a19d5",
   "metadata": {
    "tags": []
   },
   "outputs": [
    {
     "data": {
      "text/html": [
       "<table>\n",
       "    <tr>\n",
       "        <th>secret</th>\n",
       "    </tr>\n",
       "    <tr>\n",
       "        <td>ZpIusOfIP76sHzOTTWhPn6S0GNz14K2bmZFR2KRzHrYTRLCW8NO8</td>\n",
       "    </tr>\n",
       "    <tr>\n",
       "        <td>V96NMLHu6nhnJHw1AXA/+zsDpk8Hq7NY7DbbtBQjqG9TQ6t9dF4=</td>\n",
       "    </tr>\n",
       "    <tr>\n",
       "        <td>9z2kXtIYOgSNl/fcZEXqz44baRpVyFhV/jH/yp/jP/FbpR1Qle0oDIZrMF0iCyomTtGsKEKPioWZ<br>wf64xVs=</td>\n",
       "    </tr>\n",
       "</table>"
      ],
      "text/plain": [
       "[('ZpIusOfIP76sHzOTTWhPn6S0GNz14K2bmZFR2KRzHrYTRLCW8NO8',),\n",
       " ('V96NMLHu6nhnJHw1AXA/+zsDpk8Hq7NY7DbbtBQjqG9TQ6t9dF4=',),\n",
       " ('9z2kXtIYOgSNl/fcZEXqz44baRpVyFhV/jH/yp/jP/FbpR1Qle0oDIZrMF0iCyomTtGsKEKPioWZ\\nwf64xVs=',)]"
      ]
     },
     "execution_count": 9,
     "metadata": {},
     "output_type": "execute_result"
    }
   ],
   "source": [
    "%%sql \n",
    "SELECT * FROM my_secrets;"
   ]
  },
  {
   "cell_type": "markdown",
   "id": "97785377-aad3-4d63-95c0-f7eb3d6d872d",
   "metadata": {},
   "source": [
    "## Accessing Decrypted Values\n",
    "\n",
    "When a column is labled with TCE using `SECURITY LABEL`, pgsodium dynamically generate a view that can decrypt rows on the fly.  By default this view is named `decrypted_<table_name>` for the table with any labeled columns."
   ]
  },
  {
   "cell_type": "code",
   "execution_count": 10,
   "id": "efd140e5-6a8a-4a0c-aa16-06a4ce38725f",
   "metadata": {},
   "outputs": [
    {
     "data": {
      "text/html": [
       "<table>\n",
       "    <tr>\n",
       "        <th>secret</th>\n",
       "        <th>decrypted_secret</th>\n",
       "    </tr>\n",
       "    <tr>\n",
       "        <td>ZpIusOfIP76sHzOTTWhPn6S0GNz14K2bmZFR2KRzHrYTRLCW8NO8</td>\n",
       "        <td>sekert1</td>\n",
       "    </tr>\n",
       "    <tr>\n",
       "        <td>V96NMLHu6nhnJHw1AXA/+zsDpk8Hq7NY7DbbtBQjqG9TQ6t9dF4=</td>\n",
       "        <td>shhhhh</td>\n",
       "    </tr>\n",
       "    <tr>\n",
       "        <td>9z2kXtIYOgSNl/fcZEXqz44baRpVyFhV/jH/yp/jP/FbpR1Qle0oDIZrMF0iCyomTtGsKEKPioWZ<br>wf64xVs=</td>\n",
       "        <td>0xABC_my_payment_processor_key</td>\n",
       "    </tr>\n",
       "</table>"
      ],
      "text/plain": [
       "[('ZpIusOfIP76sHzOTTWhPn6S0GNz14K2bmZFR2KRzHrYTRLCW8NO8', 'sekert1'),\n",
       " ('V96NMLHu6nhnJHw1AXA/+zsDpk8Hq7NY7DbbtBQjqG9TQ6t9dF4=', 'shhhhh'),\n",
       " ('9z2kXtIYOgSNl/fcZEXqz44baRpVyFhV/jH/yp/jP/FbpR1Qle0oDIZrMF0iCyomTtGsKEKPioWZ\\nwf64xVs=', '0xABC_my_payment_processor_key')]"
      ]
     },
     "execution_count": 10,
     "metadata": {},
     "output_type": "execute_result"
    }
   ],
   "source": [
    "%%sql \n",
    "SELECT * FROM decrypted_my_secrets;"
   ]
  },
  {
   "cell_type": "markdown",
   "id": "2c9dfdf3-65f6-4972-aad4-08d048cb65b0",
   "metadata": {},
   "source": [
    "## Using per-Row Key Ids, Associated Data, and Nonces\n",
    "\n",
    "The above approach is simple, there is one key to manage and it is used for the whole column.  But in many cases you will want finer grained control over which key is applied to which row.  For example if you host customer content, you may require a different key for different customers.\n",
    "\n",
    "Furthermore authenticated encryption is useful, but you often have data *associated* with a secret that does not need to be encrypted but does need to be *authenticated* meaning that the associated data is included in the generation of the authentication signature.  See the wikipedia page [Authenticated Encryption with Assocaited Data](https://en.wikipedia.org/wiki/Authenticated_encryption#Authenticated_encryption_with_associated_data_(AEAD)) for more information on this technique.  pgsodium lets you specify one or more columns that can be associated with a secret as shown below.\n",
    "\n",
    "Finally, a common pattern in encryption is to use a *nonce* value to deduplicate secrets and associated data.  Without this nonce, duplicate secrets and associated data would create duplicate encrypted values, and this information can be used by attackers in some situations.\n",
    "\n",
    "To put it all together, lets create another table for customer secrets:"
   ]
  },
  {
   "cell_type": "code",
   "execution_count": 11,
   "id": "cd1ec238-e061-4995-89ca-9af345932cbe",
   "metadata": {},
   "outputs": [
    {
     "data": {
      "text/plain": [
       "[]"
      ]
     },
     "execution_count": 11,
     "metadata": {},
     "output_type": "execute_result"
    }
   ],
   "source": [
    "%%sql\n",
    "DROP TABLE IF EXISTS my_customer_secrets CASCADE;\n",
    "CREATE TABLE my_customer_secrets (\n",
    "    id bigserial,\n",
    "    secret text,\n",
    "    associated_data json,\n",
    "    owner text NOT NULL,\n",
    "    key_id uuid REFERENCES pgsodium.key(id) DEFAULT (pgsodium.create_key()).id,\n",
    "    nonce bytea DEFAULT pgsodium.crypto_aead_det_noncegen());"
   ]
  },
  {
   "cell_type": "code",
   "execution_count": 12,
   "id": "f450b84f-0b27-47a7-9cd2-1633f58a43e1",
   "metadata": {},
   "outputs": [
    {
     "data": {
      "text/plain": [
       "[]"
      ]
     },
     "execution_count": 12,
     "metadata": {},
     "output_type": "execute_result"
    }
   ],
   "source": [
    "%%sql \n",
    "SECURITY LABEL FOR pgsodium ON TABLE my_customer_secrets IS 'DECRYPT WITH VIEW public.other_name_view';"
   ]
  },
  {
   "cell_type": "markdown",
   "id": "ce56b6e6-9262-4c5b-a9df-5dc03a441005",
   "metadata": {},
   "source": [
    "Notice that in this case there some new columns, an integer id, an owner, some \"associated\" data in JSON format, and a nonce. These columns will be used in the security label below.  Notice also that the `key_id` and `nonce` columns have defaults, so that if you don't provide a value for them, a new key_id and nonce will by automatically generated.\n",
    "\n",
    "The new label has different syntax than the first example, instead of specifying a `KEY ID` the label specifies a `KEY COLUMN` and some optional `ASSOCIATED` data columns, of which there may be one or more, and a `NONCE` column."
   ]
  },
  {
   "cell_type": "code",
   "execution_count": 13,
   "id": "d13b4f58-2237-4f78-9bac-af2d41a14efa",
   "metadata": {},
   "outputs": [
    {
     "data": {
      "text/plain": [
       "[]"
      ]
     },
     "execution_count": 13,
     "metadata": {},
     "output_type": "execute_result"
    }
   ],
   "source": [
    "%%sql \n",
    "SECURITY LABEL FOR pgsodium ON COLUMN my_customer_secrets.secret \n",
    "    IS 'ENCRYPT WITH KEY COLUMN key_id ASSOCIATED (id, associated_data, owner) NONCE nonce';"
   ]
  },
  {
   "cell_type": "markdown",
   "id": "dcd173c0-2462-40b8-b5aa-e9b453f3596a",
   "metadata": {},
   "source": [
    "Insert some test data:"
   ]
  },
  {
   "cell_type": "code",
   "execution_count": 14,
   "id": "297c4670-02cc-4212-9b8b-2da5fbd0f848",
   "metadata": {},
   "outputs": [
    {
     "data": {
      "text/plain": [
       "[]"
      ]
     },
     "execution_count": 14,
     "metadata": {},
     "output_type": "execute_result"
    }
   ],
   "source": [
    "%%sql \n",
    "INSERT INTO my_customer_secrets (secret, associated_data, owner) \n",
    "    VALUES  ('blue', '{\"type\":\"color\"}', 'bob'), \n",
    "            ('nuts', '{\"type\":\"food\"}',  'alice'),\n",
    "            ('fast', '{\"type\":\"car\"}',   'mallory');"
   ]
  },
  {
   "cell_type": "markdown",
   "id": "30d993ff-cc32-4f66-92e3-4701bfa6aaca",
   "metadata": {},
   "source": [
    "As above, secret is now stored en anthenticated encrypted form.  The `id`, `associated_data`, and `owner` columns are \"mixed in\" to the signature that is stored with the secret, so they cannot be forged.  Any atttempt to decrypt the secret with inauthentic associated data will fail."
   ]
  },
  {
   "cell_type": "code",
   "execution_count": 15,
   "id": "08e55687-adfc-4f86-812c-94cff2f46f6d",
   "metadata": {},
   "outputs": [
    {
     "data": {
      "text/html": [
       "<table>\n",
       "    <tr>\n",
       "        <th>secret</th>\n",
       "        <th>associated_data</th>\n",
       "        <th>owner</th>\n",
       "        <th>key_id</th>\n",
       "    </tr>\n",
       "    <tr>\n",
       "        <td>GrDDDYZXzBvAjKWWeVrCBtt8ngVM3t+k4JFd37ll0EtGtREB</td>\n",
       "        <td>{&#x27;type&#x27;: &#x27;color&#x27;}</td>\n",
       "        <td>bob</td>\n",
       "        <td>bb04c8f9-c9ff-4978-a39d-afe44ca98e9a</td>\n",
       "    </tr>\n",
       "    <tr>\n",
       "        <td>N7427oX6/ENTnuYuk4FfGdo1tldjiZI/wF4Hk9nT97Um+xSm</td>\n",
       "        <td>{&#x27;type&#x27;: &#x27;food&#x27;}</td>\n",
       "        <td>alice</td>\n",
       "        <td>fa0050ed-2876-4f98-b677-0000cf5fffb4</td>\n",
       "    </tr>\n",
       "    <tr>\n",
       "        <td>AV2GSzBDgAO71TqCXUKJD4U3Bd7H55rfH3grNEElO6w3uajE</td>\n",
       "        <td>{&#x27;type&#x27;: &#x27;car&#x27;}</td>\n",
       "        <td>mallory</td>\n",
       "        <td>eb9291a2-2cf2-4ce3-8e99-e002b47b9d57</td>\n",
       "    </tr>\n",
       "</table>"
      ],
      "text/plain": [
       "[('GrDDDYZXzBvAjKWWeVrCBtt8ngVM3t+k4JFd37ll0EtGtREB', {'type': 'color'}, 'bob', UUID('bb04c8f9-c9ff-4978-a39d-afe44ca98e9a')),\n",
       " ('N7427oX6/ENTnuYuk4FfGdo1tldjiZI/wF4Hk9nT97Um+xSm', {'type': 'food'}, 'alice', UUID('fa0050ed-2876-4f98-b677-0000cf5fffb4')),\n",
       " ('AV2GSzBDgAO71TqCXUKJD4U3Bd7H55rfH3grNEElO6w3uajE', {'type': 'car'}, 'mallory', UUID('eb9291a2-2cf2-4ce3-8e99-e002b47b9d57'))]"
      ]
     },
     "execution_count": 15,
     "metadata": {},
     "output_type": "execute_result"
    }
   ],
   "source": [
    "%%sql \n",
    "SELECT secret, associated_data, owner, key_id FROM my_customer_secrets;"
   ]
  },
  {
   "cell_type": "markdown",
   "id": "74fad435-ac09-4a74-afa9-ea9e14e60c29",
   "metadata": {},
   "source": [
    "Decrypted secret access the view by the name specified in the table label above."
   ]
  },
  {
   "cell_type": "code",
   "execution_count": 16,
   "id": "40900680-d0c2-4bc9-8228-7e85943038a8",
   "metadata": {},
   "outputs": [
    {
     "data": {
      "text/html": [
       "<table>\n",
       "    <tr>\n",
       "        <th>decrypted_secret</th>\n",
       "        <th>associated_data</th>\n",
       "        <th>owner</th>\n",
       "        <th>key_id</th>\n",
       "    </tr>\n",
       "    <tr>\n",
       "        <td>blue</td>\n",
       "        <td>{&#x27;type&#x27;: &#x27;color&#x27;}</td>\n",
       "        <td>bob</td>\n",
       "        <td>bb04c8f9-c9ff-4978-a39d-afe44ca98e9a</td>\n",
       "    </tr>\n",
       "    <tr>\n",
       "        <td>nuts</td>\n",
       "        <td>{&#x27;type&#x27;: &#x27;food&#x27;}</td>\n",
       "        <td>alice</td>\n",
       "        <td>fa0050ed-2876-4f98-b677-0000cf5fffb4</td>\n",
       "    </tr>\n",
       "    <tr>\n",
       "        <td>fast</td>\n",
       "        <td>{&#x27;type&#x27;: &#x27;car&#x27;}</td>\n",
       "        <td>mallory</td>\n",
       "        <td>eb9291a2-2cf2-4ce3-8e99-e002b47b9d57</td>\n",
       "    </tr>\n",
       "</table>"
      ],
      "text/plain": [
       "[('blue', {'type': 'color'}, 'bob', UUID('bb04c8f9-c9ff-4978-a39d-afe44ca98e9a')),\n",
       " ('nuts', {'type': 'food'}, 'alice', UUID('fa0050ed-2876-4f98-b677-0000cf5fffb4')),\n",
       " ('fast', {'type': 'car'}, 'mallory', UUID('eb9291a2-2cf2-4ce3-8e99-e002b47b9d57'))]"
      ]
     },
     "execution_count": 16,
     "metadata": {},
     "output_type": "execute_result"
    }
   ],
   "source": [
    "%%sql \n",
    "SELECT decrypted_secret, associated_data, owner, key_id FROM other_name_view;"
   ]
  }
 ],
 "metadata": {
  "kernelspec": {
   "display_name": "Python 3 (ipykernel)",
   "language": "python",
   "name": "python3"
  },
  "language_info": {
   "codemirror_mode": {
    "name": "ipython",
    "version": 3
   },
   "file_extension": ".py",
   "mimetype": "text/x-python",
   "name": "python",
   "nbconvert_exporter": "python",
   "pygments_lexer": "ipython3",
   "version": "3.9.2"
  }
 },
 "nbformat": 4,
 "nbformat_minor": 5
}
